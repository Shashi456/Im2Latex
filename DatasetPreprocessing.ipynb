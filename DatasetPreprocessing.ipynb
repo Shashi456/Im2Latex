{
 "cells": [
  {
   "cell_type": "code",
   "execution_count": 12,
   "metadata": {},
   "outputs": [
    {
     "name": "stdout",
     "output_type": "stream",
     "text": [
      "ds^{2} = (1 - {qcos\\theta\\over r})^{2\\over 1 + \\alpha^{2}}\\lbrace dr^2+r^2d\\theta^2+r^2sin^2\\theta d\\varphi^2\\rbrace -{dt^2\\over  (1 - {qcos\\theta\\over r})^{2\\over 1 + \\alpha^{2}}}\\, .\\label{eq:sps1}\n",
      "\n"
     ]
    },
    {
     "data": {
      "image/png": "[encoded data removed]",
      "text/plain": [
       "<Figure size 432x288 with 1 Axes>"
      ]
     },
     "metadata": {
      "needs_background": "light"
     },
     "output_type": "display_data"
    }
   ],
   "source": [
    "%matplotlib inline\n",
    "from torch.utils import data\n",
    "from PIL import Image\n",
    "import os\n",
    "import matplotlib.pyplot as plt\n",
    "\n",
    "class Dataset(data.Dataset):\n",
    "    def __init__(self,data_filename, formula_filename, transform =None):\n",
    "        self.data_filename = data_filename\n",
    "        self.formula_filename = formula_filename\n",
    "        self.files = open(self.data_filename,'r').readlines()\n",
    "        self.formulas = open(self.formula_filename,'r').readlines()\n",
    "        self.transform = transform\n",
    "    def __len__(self):\n",
    "        return len(self.files)\n",
    "    def __getitem__(self, index):\n",
    "        line_num, img_file = self.files[index].strip().split()[0:2]\n",
    "        img_file += \".png\"\n",
    "        img_path = os.path.join('formula_images/', img_file)\n",
    "        #image = io.imread(img_path)\n",
    "        image = Image.open(img_path)\n",
    "        image = Image.Image.crop(image,box=[200,0,1500,1300])\n",
    "        formula = self.formulas[int(line_num)]\n",
    "        if self.transform:\n",
    "            image = self.transform(image)\n",
    "        return image, formula\n",
    "\n",
    "dataset_train = Dataset('im2latex_train.lst','im2latex_formulas.lst')\n",
    "\n",
    "img , label = dataset_train[0]\n",
    "print(label)\n",
    "plt.imshow(img)\n",
    "plt.show()"
   ]
  },
  {
   "cell_type": "code",
   "execution_count": null,
   "metadata": {},
   "outputs": [],
   "source": []
  }
 ],
 "metadata": {
  "kernelspec": {
   "display_name": "Python 3",
   "language": "python",
   "name": "python3"
  },
  "language_info": {
   "codemirror_mode": {
    "name": "ipython",
    "version": 3
   },
   "file_extension": ".py",
   "mimetype": "text/x-python",
   "name": "python",
   "nbconvert_exporter": "python",
   "pygments_lexer": "ipython3",
   "version": "3.6.6"
  }
 },
 "nbformat": 4,
 "nbformat_minor": 2
}
