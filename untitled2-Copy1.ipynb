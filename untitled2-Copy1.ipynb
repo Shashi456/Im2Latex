{
 "cells": [
  {
   "cell_type": "code",
   "execution_count": 1,
   "metadata": {},
   "outputs": [
    {
     "name": "stderr",
     "output_type": "stream",
     "text": [
      "/home/shubham/anaconda2/lib/python2.7/site-packages/h5py/__init__.py:36: FutureWarning: Conversion of the second argument of issubdtype from `float` to `np.floating` is deprecated. In future, it will be treated as `np.float64 == np.dtype(float).type`.\n",
      "  from ._conv import register_converters as _register_converters\n",
      "Using TensorFlow backend.\n"
     ]
    }
   ],
   "source": [
    "import torch\n",
    "import torch.nn as nn\n",
    "import torch.nn.functional as F\n",
    "from torch import optim\n",
    "\n",
    "import torchvision.transforms as T\n",
    "from torchvision import datasets\n",
    "from torchvision import models\n",
    "\n",
    "import numpy as np\n",
    "import matplotlib.pyplot as plt\n",
    "from PIL import Image\n",
    "from torch.utils.data import Dataset, DataLoader\n",
    "import os\n",
    "\n",
    "from collections import OrderedDict\n",
    "\n",
    "from livelossplot import PlotLosses\n",
    "import matplotlib as mpl\n",
    "mpl.rcParams['figure.dpi']= 100"
   ]
  },
  {
   "cell_type": "code",
   "execution_count": 2,
   "metadata": {},
   "outputs": [],
   "source": [
    "SOS = 10\n",
    "\n",
    "transform = T.Compose([\n",
    "                        T.Resize(224),\n",
    "                        T.ToTensor(),\n",
    "                        T.Normalize([0.485, 0.456, 0.406], [0.229, 0.224, 0.225])])"
   ]
  },
  {
   "cell_type": "code",
   "execution_count": 3,
   "metadata": {},
   "outputs": [],
   "source": [
    "svhn_path = \"/home/shubham/SVHN/\"\n",
    "svhn_train = datasets.SVHN(svhn_path, download=False, transform=transform)\n",
    "svhn_trainloader = DataLoader(svhn_train, shuffle=True, batch_size=10)"
   ]
  },
  {
   "cell_type": "code",
   "execution_count": 4,
   "metadata": {},
   "outputs": [
    {
     "name": "stdout",
     "output_type": "stream",
     "text": [
      "0\n",
      "(32, 32)\n"
     ]
    },
    {
     "data": {
      "image/png": "[encoded data removed]",
      "text/plain": [
       "<Figure size 600x400 with 1 Axes>"
      ]
     },
     "metadata": {},
     "output_type": "display_data"
    }
   ],
   "source": [
    "def see_example():\n",
    "    svhn_path = \"/home/shubham/SVHN/\"\n",
    "    svhn_train = datasets.SVHN(svhn_path, download=False)\n",
    "    image, caption = svhn_train[2000]\n",
    "    plt.imshow(image)\n",
    "    print caption\n",
    "    print image.size\n",
    "see_example()"
   ]
  },
  {
   "cell_type": "code",
   "execution_count": 5,
   "metadata": {},
   "outputs": [],
   "source": [
    "class EncoderCNN(nn.Module):\n",
    "    def __init__(self, embed_size):\n",
    "        super(EncoderCNN, self).__init__()\n",
    "        self.embed_size = embed_size\n",
    "        resnet = models.resnet101(pretrained=True)\n",
    "        self.model = nn.Sequential(*list(resnet.children())[:-1])\n",
    "        self.lin = nn.Linear(resnet.fc.in_features, self.embed_size)\n",
    "        self.bn = nn.BatchNorm1d(self.embed_size)\n",
    "    def forward(self, images):\n",
    "        with torch.no_grad():\n",
    "            features = self.model(images)\n",
    "        features = features.reshape(features.size(0), -1)\n",
    "        features = self.bn(self.lin(features))\n",
    "        return features\n"
   ]
  },
  {
   "cell_type": "code",
   "execution_count": 6,
   "metadata": {},
   "outputs": [],
   "source": [
    "encoder = EncoderCNN(128)"
   ]
  },
  {
   "cell_type": "code",
   "execution_count": 7,
   "metadata": {},
   "outputs": [
    {
     "data": {
      "text/plain": [
       "torch.Size([10, 128])"
      ]
     },
     "execution_count": 7,
     "metadata": {},
     "output_type": "execute_result"
    }
   ],
   "source": [
    "images, captions = next(iter(svhn_trainloader))\n",
    "encoder(images).shape"
   ]
  },
  {
   "cell_type": "code",
   "execution_count": 8,
   "metadata": {},
   "outputs": [],
   "source": [
    "class DecoderRNN(nn.Module):\n",
    "    def __init__(self, hidden_size, embed_size = 32, vocab_size = 11, num_layers = 1):\n",
    "        super(DecoderRNN, self).__init__()\n",
    "        self.embed = nn.Embedding(vocab_size, embed_size)\n",
    "        self.rnn = nn.RNN(embed_size, hidden_size)\n",
    "        self.lin = nn.Linear(hidden_size, vocab_size)\n",
    "    def forward(self, input, enc_hidden):\n",
    "        embedding = self.embed(input)\n",
    "        output, hidden = self.rnn(embedding.unsqueeze(0), enc_hidden.unsqueeze(0))\n",
    "        output = self.lin(output)\n",
    "        return output"
   ]
  },
  {
   "cell_type": "code",
   "execution_count": 9,
   "metadata": {},
   "outputs": [],
   "source": [
    "out = encoder(images)"
   ]
  },
  {
   "cell_type": "code",
   "execution_count": 10,
   "metadata": {},
   "outputs": [
    {
     "data": {
      "text/plain": [
       "torch.Size([10])"
      ]
     },
     "execution_count": 10,
     "metadata": {},
     "output_type": "execute_result"
    }
   ],
   "source": [
    "out.shape\n",
    "captions.shape"
   ]
  },
  {
   "cell_type": "code",
   "execution_count": 11,
   "metadata": {},
   "outputs": [
    {
     "data": {
      "text/plain": [
       "torch.Size([1, 10, 11])"
      ]
     },
     "execution_count": 11,
     "metadata": {},
     "output_type": "execute_result"
    }
   ],
   "source": [
    "decoder = DecoderRNN(128)\n",
    "decoder(captions,out).shape"
   ]
  },
  {
   "cell_type": "code",
   "execution_count": 12,
   "metadata": {},
   "outputs": [],
   "source": [
    "def train(encoder, decoder, e_optim, d_optim, loss_fn, is_cuda=False):\n",
    "    \n",
    "    caps = torch.LongTensor([10,10,10,10,10,10,10,10,10,10])\n",
    "    loss = 0\n",
    "    e_optim.zero_grad()\n",
    "    d_optim.zero_grad()\n",
    "    images, captions = next(iter(svhn_trainloader))\n",
    "    if is_cuda:\n",
    "        images, captions = images.cuda(), captions.cuda()\n",
    "        caps = caps.cuda()\n",
    "    enc_out = encoder(images)\n",
    "    dec_out = decoder(caps, enc_out).squeeze(0)\n",
    "    \n",
    "    outputs = torch.argmax(dec_out,dim=1)\n",
    "    correct = (outputs == captions).sum()\n",
    "    loss = F.cross_entropy(dec_out, captions)\n",
    "    loss.backward()\n",
    "    \n",
    "    e_optim.step()\n",
    "    d_optim.step()\n",
    "    return loss, correct"
   ]
  },
  {
   "cell_type": "code",
   "execution_count": 13,
   "metadata": {},
   "outputs": [],
   "source": [
    "enc = EncoderCNN(128)\n",
    "dec = DecoderRNN(128)"
   ]
  },
  {
   "cell_type": "code",
   "execution_count": 19,
   "metadata": {},
   "outputs": [
    {
     "data": {
      "text/plain": [
       "(tensor(2.3057, device='cuda:0', grad_fn=<NllLossBackward>),\n",
       " tensor(2, device='cuda:0'))"
      ]
     },
     "execution_count": 19,
     "metadata": {},
     "output_type": "execute_result"
    }
   ],
   "source": [
    "is_cuda = True\n",
    "if is_cuda:\n",
    "    enc, dec = enc.cuda(), dec.cuda()\n",
    "e_optim = optim.Adam(enc.parameters())\n",
    "d_optim = optim.Adam(dec.parameters())\n",
    "train(enc, dec, e_optim, d_optim, None, is_cuda=True)"
   ]
  },
  {
   "cell_type": "code",
   "execution_count": 22,
   "metadata": {},
   "outputs": [
    {
     "ename": "KeyboardInterrupt",
     "evalue": "",
     "output_type": "error",
     "traceback": [
      "Traceback \u001b[0;36m(most recent call last)\u001b[0m:\n",
      "  File \u001b[1;32m\"<ipython-input-22-03a5370ba6b7>\"\u001b[0m, line \u001b[1;32m5\u001b[0m, in \u001b[1;35m<module>\u001b[0m\n    liveloss.draw()\n",
      "  File \u001b[1;32m\"/home/shubham/anaconda2/lib/python2.7/site-packages/livelossplot/generic_plot.py\"\u001b[0m, line \u001b[1;32m39\u001b[0m, in \u001b[1;35mdraw\u001b[0m\n    metric2title=self.metric2title)\n",
      "  File \u001b[1;32m\"/home/shubham/anaconda2/lib/python2.7/site-packages/livelossplot/core.py\"\u001b[0m, line \u001b[1;32m44\u001b[0m, in \u001b[1;35mdraw_plot\u001b[0m\n    plt.show();\n",
      "  File \u001b[1;32m\"/home/shubham/anaconda2/lib/python2.7/site-packages/matplotlib/pyplot.py\"\u001b[0m, line \u001b[1;32m253\u001b[0m, in \u001b[1;35mshow\u001b[0m\n    return _show(*args, **kw)\n",
      "  File \u001b[1;32m\"/home/shubham/anaconda2/lib/python2.7/site-packages/ipykernel/pylab/backend_inline.py\"\u001b[0m, line \u001b[1;32m36\u001b[0m, in \u001b[1;35mshow\u001b[0m\n    display(figure_manager.canvas.figure)\n",
      "  File \u001b[1;32m\"/home/shubham/anaconda2/lib/python2.7/site-packages/IPython/core/display.py\"\u001b[0m, line \u001b[1;32m311\u001b[0m, in \u001b[1;35mdisplay\u001b[0m\n    format_dict, md_dict = format(obj, include=include, exclude=exclude)\n",
      "  File \u001b[1;32m\"/home/shubham/anaconda2/lib/python2.7/site-packages/IPython/core/formatters.py\"\u001b[0m, line \u001b[1;32m173\u001b[0m, in \u001b[1;35mformat\u001b[0m\n    data = formatter(obj)\n",
      "  File \u001b[1;32m\"<decorator-gen-9>\"\u001b[0m, line \u001b[1;32m2\u001b[0m, in \u001b[1;35m__call__\u001b[0m\n",
      "  File \u001b[1;32m\"/home/shubham/anaconda2/lib/python2.7/site-packages/IPython/core/formatters.py\"\u001b[0m, line \u001b[1;32m217\u001b[0m, in \u001b[1;35mcatch_format_error\u001b[0m\n    r = method(self, *args, **kwargs)\n",
      "  File \u001b[1;32m\"/home/shubham/anaconda2/lib/python2.7/site-packages/IPython/core/formatters.py\"\u001b[0m, line \u001b[1;32m334\u001b[0m, in \u001b[1;35m__call__\u001b[0m\n    return printer(obj)\n",
      "  File \u001b[1;32m\"/home/shubham/anaconda2/lib/python2.7/site-packages/IPython/core/pylabtools.py\"\u001b[0m, line \u001b[1;32m247\u001b[0m, in \u001b[1;35m<lambda>\u001b[0m\n    png_formatter.for_type(Figure, lambda fig: print_figure(fig, 'png', **kwargs))\n",
      "  File \u001b[1;32m\"/home/shubham/anaconda2/lib/python2.7/site-packages/IPython/core/pylabtools.py\"\u001b[0m, line \u001b[1;32m131\u001b[0m, in \u001b[1;35mprint_figure\u001b[0m\n    fig.canvas.print_figure(bytes_io, **kw)\n",
      "  File \u001b[1;32m\"/home/shubham/anaconda2/lib/python2.7/site-packages/matplotlib/backend_bases.py\"\u001b[0m, line \u001b[1;32m2212\u001b[0m, in \u001b[1;35mprint_figure\u001b[0m\n    **kwargs)\n",
      "\u001b[0;36m  File \u001b[0;32m\"/home/shubham/anaconda2/lib/python2.7/site-packages/matplotlib/backends/backend_agg.py\"\u001b[0;36m, line \u001b[0;32m528\u001b[0;36m, in \u001b[0;35mprint_png\u001b[0;36m\u001b[0m\n\u001b[0;31m    self.figure.dpi, metadata=metadata)\u001b[0m\n",
      "\u001b[0;31mKeyboardInterrupt\u001b[0m\n"
     ]
    }
   ],
   "source": [
    "liveloss = PlotLosses()\n",
    "for i in range(1000):\n",
    "    loss, accuracy = train(enc, dec, e_optim, d_optim, None,is_cuda=is_cuda)\n",
    "    liveloss.update({'log_loss':loss.cpu().detach().numpy()/10.0,'accuracy':(accuracy.cpu().numpy()/10.0)})\n",
    "    liveloss.draw()"
   ]
  },
  {
   "cell_type": "code",
   "execution_count": 21,
   "metadata": {},
   "outputs": [],
   "source": [
    "images, captions = next(iter(svhn_trainloader))"
   ]
  },
  {
   "cell_type": "code",
   "execution_count": null,
   "metadata": {},
   "outputs": [],
   "source": [
    "hidden = enc(images)\n",
    "out = dec()"
   ]
  }
 ],
 "metadata": {
  "kernelspec": {
   "display_name": "Python 2 (Spyder)",
   "language": "python2",
   "name": "python2"
  },
  "language_info": {
   "codemirror_mode": {
    "name": "ipython",
    "version": 2
   },
   "file_extension": ".py",
   "mimetype": "text/x-python",
   "name": "python",
   "nbconvert_exporter": "python",
   "pygments_lexer": "ipython2",
   "version": "2.7.15"
  }
 },
 "nbformat": 4,
 "nbformat_minor": 2
}
