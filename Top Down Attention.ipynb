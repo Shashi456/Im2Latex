{
 "cells": [
  {
   "cell_type": "code",
   "execution_count": 20,
   "metadata": {},
   "outputs": [],
   "source": [
    "import torch\n",
    "import torch.nn as nn\n",
    "import torch.nn.functional as F\n",
    "from torch.utils import data\n",
    "from torchvision import transforms\n",
    "import torchvision.models as models\n",
    "#from skimage import io, transform\n",
    "from PIL import Image\n",
    "import os\n",
    "import matplotlib.pyplot as plt\n",
    "from torch.autograd import Variable\n",
    "import matplotlib as mpl\n",
    "import numpy as np\n",
    "\n",
    "import cv2\n",
    "\n",
    "%matplotlib inline\n",
    "\n",
    "mpl.rcParams['figure.dpi']= 300"
   ]
  },
  {
   "cell_type": "code",
   "execution_count": 21,
   "metadata": {},
   "outputs": [],
   "source": [
    "def BoundingBoxes(im1, area_thresh = 20):\n",
    "    boxes = []\n",
    "    im = cv2.GaussianBlur(im1,(5,5),0)\n",
    "    imgray = cv2.cvtColor(im, cv2.COLOR_BGR2GRAY)\n",
    "    ret, thresh = cv2.threshold(imgray,127,255,0)\n",
    "    thresh = cv2.bitwise_not(thresh)\n",
    "    im2, contours, hierarchy = cv2.findContours(thresh,cv2.RETR_EXTERNAL,cv2.CHAIN_APPROX_SIMPLE)\n",
    "    #cv2.drawContours(im, contours, -1, (0,255,0), 1)\n",
    "    for c in contours:\n",
    "        # get the bounding rect\n",
    "        x, y, w, h = cv2.boundingRect(c)\n",
    "        area = w*h\n",
    "        if area < area_thresh:\n",
    "            continue\n",
    "        boxes.append((x,y,w,h))\n",
    "        # draw a green rectangle to visualize the bounding rect\n",
    "        cv2.rectangle(im1, (x, y), (x+w, y+h), (0, 255, 0), 1)\n",
    "    return im1, boxes"
   ]
  },
  {
   "cell_type": "code",
   "execution_count": 29,
   "metadata": {},
   "outputs": [],
   "source": [
    "class Dataset(data.Dataset):\n",
    "    def __init__(self,data_filename, formula_filename, transform =None):\n",
    "        self.data_filename = data_filename\n",
    "        self.formula_filename = formula_filename\n",
    "        self.files = open(self.data_filename,'r').readlines()\n",
    "        self.formulas = open(self.formula_filename,'r').readlines()\n",
    "        self.transform = transform\n",
    "    def __len__(self):\n",
    "        return len(self.files)\n",
    "    def __getitem__(self, index):\n",
    "        line_num, img_file = self.files[index].strip().split()[0:2]\n",
    "        img_file += \".png\"\n",
    "        img_path = os.path.join('../formula_images/', img_file)\n",
    "        #image = io.imread(img_path)\n",
    "        #image = Image.open(img_path).convert('RGB')\n",
    "        #image = Image.Image.crop(image,box=[200,100,1500,800])\n",
    "        image = cv2.imread(img_path)\n",
    "        image = image[300:600,200:1500]\n",
    "        formula = self.formulas[int(line_num)]\n",
    "        if self.transform:\n",
    "            image = self.transform(image)\n",
    "        return image, formula"
   ]
  },
  {
   "cell_type": "code",
   "execution_count": 32,
   "metadata": {},
   "outputs": [],
   "source": [
    "dataset_train = Dataset('im2latex_train.lst','formulas.token.lst')"
   ]
  },
  {
   "cell_type": "code",
   "execution_count": 60,
   "metadata": {},
   "outputs": [
    {
     "name": "stdout",
     "output_type": "stream",
     "text": [
      "\\widetilde \\gamma _ { \\rm h o p f } \\simeq \\sum _ { n > 0 } \\widetilde { G } _ n { ( - a ) ^ n \\over 2 ^ { 2 n - 1 } }\n",
      "\n",
      "['\\\\widetilde', '\\\\gamma', '_', '{', '\\\\rm', 'h', 'o', 'p', 'f', '}', '\\\\simeq', '\\\\sum', '_', '{', 'n', '>', '0', '}', '\\\\widetilde', '{', 'G', '}', '_', 'n', '{', '(', '-', 'a', ')', '^', 'n', '\\\\over', '2', '^', '{', '2', 'n', '-', '1', '}', '}']\n"
     ]
    },
    {
     "data": {
      "image/png": "[encoded data removed]",
      "text/plain": [
       "<Figure size 1800x1200 with 1 Axes>"
      ]
     },
     "metadata": {
      "needs_background": "light"
     },
     "output_type": "display_data"
    }
   ],
   "source": [
    "img , label = dataset_train[1]\n",
    "print(label)\n",
    "print(label.split())\n",
    "\n",
    "img, boxes = BoundingBoxes(img,area_thresh=10)\n",
    "plt.imshow(img)\n",
    "plt.show()"
   ]
  },
  {
   "cell_type": "code",
   "execution_count": 59,
   "metadata": {},
   "outputs": [
    {
     "name": "stdout",
     "output_type": "stream",
     "text": [
      "[507, 255, 516, 544, 412, 525, 532, 533, 523, 552, 428, 453, 516, 544, 531, 71, 24, 552, 507, 544, 80, 552, 516, 531, 544, 4, 9, 518, 5, 515, 531, 370, 45, 515, 544, 45, 531, 9, 36, 552, 552]\n",
      "\\widetilde\\gamma_{\\rmhopf}\\simeq\\sum_{n>0}\\widetilde{G}_n{(-a)^n\\over2^{2n-1}}\n"
     ]
    }
   ],
   "source": [
    "def init_vocab():\n",
    "    l = open('latex_vocab.txt','r')\n",
    "    vocab = {}\n",
    "    for i,x in enumerate(l.readlines()):\n",
    "        vocab[x.strip()] = i\n",
    "    return vocab\n",
    "\n",
    "def tovocab(label):\n",
    "    return [ vocab[i] for i in label.split()]\n",
    "\n",
    "def init_rev_vocab(vocab):\n",
    "    return {x:i for i,x in vocab.items()}\n",
    "\n",
    "def tolatex(label):\n",
    "    return [ rev_vocab[i] for i in label]\n",
    "\n",
    "vocab = init_vocab()\n",
    "rev_vocab = init_rev_vocab(vocab)\n",
    "voc = tovocab(label)    \n",
    "print(voc)\n",
    "lab = tolatex(voc)\n",
    "print(''.join(lab))"
   ]
  },
  {
   "cell_type": "markdown",
   "metadata": {},
   "source": [
    "# Convnet for feature extraction  \n",
    "Append co-ordinates of feature to feature vector"
   ]
  },
  {
   "cell_type": "code",
   "execution_count": 6,
   "metadata": {},
   "outputs": [],
   "source": [
    "encoder = models.vgg16(pretrained=True)"
   ]
  },
  {
   "cell_type": "code",
   "execution_count": 15,
   "metadata": {},
   "outputs": [],
   "source": [
    "#ROI each bounding box and pass through Convnet\n",
    "def encode(image, boxes, encoder):\n",
    "    encoded = []\n",
    "    for box in boxes:\n",
    "        x,y,w,h = box\n",
    "        roi = image[x:x+w,y:y+h]\n",
    "        en = encoder(roi)\n",
    "        #generate mean pooled feature vextor\n",
    "        en.extend([box[0],box[1]])\n",
    "        encoded.append(en)\n",
    "    return encoded"
   ]
  },
  {
   "cell_type": "code",
   "execution_count": null,
   "metadata": {},
   "outputs": [],
   "source": []
  },
  {
   "cell_type": "code",
   "execution_count": null,
   "metadata": {},
   "outputs": [],
   "source": []
  },
  {
   "cell_type": "code",
   "execution_count": null,
   "metadata": {},
   "outputs": [],
   "source": []
  },
  {
   "cell_type": "code",
   "execution_count": null,
   "metadata": {},
   "outputs": [],
   "source": []
  },
  {
   "cell_type": "markdown",
   "metadata": {},
   "source": [
    "# Latex language model"
   ]
  },
  {
   "cell_type": "code",
   "execution_count": null,
   "metadata": {},
   "outputs": [],
   "source": []
  },
  {
   "cell_type": "code",
   "execution_count": null,
   "metadata": {},
   "outputs": [],
   "source": []
  },
  {
   "cell_type": "markdown",
   "metadata": {},
   "source": [
    "![Image Top Down Attention](td1.png)"
   ]
  },
  {
   "cell_type": "markdown",
   "metadata": {},
   "source": [
    "![td2](td2.png)"
   ]
  },
  {
   "cell_type": "markdown",
   "metadata": {},
   "source": [
    "![td3](td3.png)"
   ]
  },
  {
   "cell_type": "code",
   "execution_count": null,
   "metadata": {},
   "outputs": [],
   "source": [
    "class Attend(nn.Module):\n",
    "    def __init__(self, feature_length, tdlstm_hidden_length, hidden):\n",
    "        super(Attend, self).__init__()\n",
    "        self.feature_length = feature_length\n",
    "        self.tdlstm_hidden_length = tdlstm_hidden_length\n",
    "        self.hidden = hidden\n",
    "        \n",
    "        self.lin1 = nn.Linear(feature_length + tdlstm_hidden_length , hidden,bias=False)\n",
    "        self.lin2 = nn.Linear(hidden, 1, bias=False)\n",
    "    \n",
    "    def forward(self, encoder_features, llstm_hidden):\n",
    "        \"\"\"\n",
    "        encoder_features - list of encoded feature vectors for each bounding box\n",
    "        llstm_hidden - language lstm hidden state\n",
    "        \"\"\"\n",
    "        K = len(encoder_features)\n",
    "        alphas = []\n",
    "        for feature in encoder_features:\n",
    "            v_h = torch.cat((feature,llstm_hidden),dim=0) #unit check dimension\n",
    "            a_i = self.lin2(F.tanh(self.lin1(v_h)))\n",
    "            alphas.append(a_i)\n",
    "        alphas = F.softmax(torch.Tensor(alphas))\n",
    "        v_t = (alphas * encoder_features).sum(1) # unit test check sum dimension\n",
    "        \n",
    "        return v_t\n",
    "            \n",
    "        \n",
    "        "
   ]
  },
  {
   "cell_type": "code",
   "execution_count": 12,
   "metadata": {},
   "outputs": [],
   "source": [
    "class TDAttnLSTM(nn.Module):\n",
    "    def __init__(self, hidden, h2_length, latex_vocab, embed_length, encoded_length):\n",
    "        super(DecoderAttn, self).__init__()\n",
    "        self.hidden = hidden\n",
    "\n",
    "        self.embedding = nn.Embedding(latex_vocab, embed_length)\n",
    "        self.lstm = nn.LSTM(embed_length + encoded_length + h2_length, hidden)\n",
    "        \n",
    "        \n",
    "    def forward(h1_prev, h2, v, prev_embedding):\n",
    "        '''\n",
    "        v - mean pooled feature vector\n",
    "        '''\n",
    "        lstm_in = torch.cat((h2, v, prev_embedding), dim = 1) #check dimension\n",
    "        h1_next = self.lstm(lstm_in)\n",
    "        return h1_next"
   ]
  },
  {
   "cell_type": "code",
   "execution_count": 13,
   "metadata": {},
   "outputs": [],
   "source": [
    "class LangLSTM(nn.Module):\n",
    "    def __init__(self, hidden, h1_length, encoded_length):\n",
    "        super(LangLSTM, self).__init__()\n",
    "        self.hidden = hidden\n",
    "        self.lstm = nn.LSTM(h1_length + encoded_length, hidden)\n",
    "        \n",
    "    def forward(self, h1_prev, v):\n",
    "        '''\n",
    "        v - attention applied feature vector\n",
    "        '''\n",
    "        lstm_in = torch.cat((h1_prev, v), dim = 1)\n",
    "        h2_next = self.lstm(lstm_in)\n",
    "        token_next = F.softmax(h2_next)\n",
    "        return h2_next, token_next"
   ]
  },
  {
   "cell_type": "code",
   "execution_count": null,
   "metadata": {},
   "outputs": [],
   "source": []
  }
 ],
 "metadata": {
  "kernelspec": {
   "display_name": "Python 3",
   "language": "python",
   "name": "python3"
  },
  "language_info": {
   "codemirror_mode": {
    "name": "ipython",
    "version": 3
   },
   "file_extension": ".py",
   "mimetype": "text/x-python",
   "name": "python",
   "nbconvert_exporter": "python",
   "pygments_lexer": "ipython3",
   "version": "3.6.6"
  }
 },
 "nbformat": 4,
 "nbformat_minor": 2
}
