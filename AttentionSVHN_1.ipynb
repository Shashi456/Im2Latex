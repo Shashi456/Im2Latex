{
 "cells": [
  {
   "cell_type": "code",
   "execution_count": 1,
   "metadata": {},
   "outputs": [
    {
     "name": "stderr",
     "output_type": "stream",
     "text": [
      "/home/shubham/anaconda2/lib/python2.7/site-packages/h5py/__init__.py:36: FutureWarning: Conversion of the second argument of issubdtype from `float` to `np.floating` is deprecated. In future, it will be treated as `np.float64 == np.dtype(float).type`.\n",
      "  from ._conv import register_converters as _register_converters\n",
      "Using TensorFlow backend.\n"
     ]
    }
   ],
   "source": [
    "import torch\n",
    "import torch.nn as nn\n",
    "import torch.nn.functional as F\n",
    "from torch import optim\n",
    "\n",
    "import torchvision.transforms as T\n",
    "from torchvision import datasets\n",
    "from torchvision import models\n",
    "\n",
    "import numpy as np\n",
    "import matplotlib.pyplot as plt\n",
    "from PIL import Image\n",
    "from torch.utils.data import Dataset, DataLoader\n",
    "import os\n",
    "\n",
    "from collections import OrderedDict\n",
    "\n",
    "from livelossplot import PlotLosses\n",
    "import matplotlib as mpl\n",
    "mpl.rcParams['figure.dpi']= 100"
   ]
  },
  {
   "cell_type": "code",
   "execution_count": 2,
   "metadata": {},
   "outputs": [],
   "source": [
    "SOS = 10\n",
    "\n",
    "transform = T.Compose([\n",
    "                        T.Resize(128),\n",
    "                        T.ToTensor(),\n",
    "                        T.Normalize([0.485, 0.456, 0.406], [0.229, 0.224, 0.225])])"
   ]
  },
  {
   "cell_type": "code",
   "execution_count": 3,
   "metadata": {},
   "outputs": [],
   "source": [
    "svhn_path = \"/home/shubham/SVHN/\"\n",
    "svhn_train = datasets.SVHN(svhn_path, download=False, transform=transform)\n",
    "svhn_trainloader = DataLoader(svhn_train, shuffle=True, batch_size=1)"
   ]
  },
  {
   "cell_type": "code",
   "execution_count": 4,
   "metadata": {},
   "outputs": [
    {
     "name": "stdout",
     "output_type": "stream",
     "text": [
      "0\n",
      "(32, 32)\n"
     ]
    },
    {
     "data": {
      "image/png": "[encoded data removed]",
      "text/plain": [
       "<Figure size 600x400 with 1 Axes>"
      ]
     },
     "metadata": {},
     "output_type": "display_data"
    }
   ],
   "source": [
    "def see_example():\n",
    "    svhn_path = \"/home/shubham/SVHN/\"\n",
    "    svhn_train = datasets.SVHN(svhn_path, download=False)\n",
    "    image, caption = svhn_train[2000]\n",
    "    plt.imshow(image)\n",
    "    print caption\n",
    "    print image.size\n",
    "see_example()"
   ]
  },
  {
   "cell_type": "code",
   "execution_count": 5,
   "metadata": {},
   "outputs": [],
   "source": [
    "def SubModel(model, layers):\n",
    "    return nn.Sequential(*list(model.children())[:layers])"
   ]
  },
  {
   "cell_type": "code",
   "execution_count": 6,
   "metadata": {
    "scrolled": true
   },
   "outputs": [
    {
     "name": "stderr",
     "output_type": "stream",
     "text": [
      "/home/shubham/anaconda2/lib/python2.7/site-packages/torchvision-0.2.1-py2.7.egg/torchvision/models/squeezenet.py:94: UserWarning: nn.init.kaiming_uniform is now deprecated in favor of nn.init.kaiming_uniform_.\n",
      "/home/shubham/anaconda2/lib/python2.7/site-packages/torchvision-0.2.1-py2.7.egg/torchvision/models/squeezenet.py:92: UserWarning: nn.init.normal is now deprecated in favor of nn.init.normal_.\n"
     ]
    }
   ],
   "source": [
    "model = models.squeezenet1_0(pretrained=False)\n",
    "sqnet = model.features"
   ]
  },
  {
   "cell_type": "code",
   "execution_count": 7,
   "metadata": {},
   "outputs": [
    {
     "data": {
      "text/plain": [
       "torch.Size([1, 512, 7, 7])"
      ]
     },
     "execution_count": 7,
     "metadata": {},
     "output_type": "execute_result"
    }
   ],
   "source": [
    "images, captions = next(iter(svhn_trainloader))\n",
    "out = sqnet(images)\n",
    "out.shape"
   ]
  },
  {
   "cell_type": "markdown",
   "metadata": {},
   "source": [
    "## MLP to calculate initial hidden state for the attention RNN"
   ]
  },
  {
   "cell_type": "code",
   "execution_count": 20,
   "metadata": {},
   "outputs": [],
   "source": [
    "class Hidden(nn.Module):\n",
    "    def __init__(self, hidden_size, feature_size = (512,7*7)):\n",
    "        super(Hidden, self).__init__()\n",
    "        self.feature_size = feature_size\n",
    "        self.hidden_size = hidden_size\n",
    "        self.fc1 = nn.Linear(self.feature_size[0], 256)\n",
    "        self.fc2 = nn.Linear(256, self.hidden_size)\n",
    "        \n",
    "    def forward(self, input):\n",
    "        input_fc1 = input.view(self.feature_size[0],-1)\n",
    "        input_fc1 = torch.mean(input_fc1, 1)\n",
    "        out1 = F.relu(self.fc1(input_fc1))\n",
    "        out2 = F.log_softmax(self.fc2(out1),dim=0)\n",
    "        return out2, input"
   ]
  },
  {
   "cell_type": "code",
   "execution_count": 22,
   "metadata": {},
   "outputs": [
    {
     "data": {
      "text/plain": [
       "tensor([-2.3014, -2.2957, -2.2620, -2.2518, -2.3486, -2.3624, -2.2942, -2.2695,\n",
       "        -2.3055, -2.3409], grad_fn=<LogSoftmaxBackward>)"
      ]
     },
     "execution_count": 22,
     "metadata": {},
     "output_type": "execute_result"
    }
   ],
   "source": [
    "## sequential check\n",
    "model = nn.Sequential(OrderedDict([\n",
    "    ('features',sqnet),\n",
    "    ('initHidden',Hidden(10))\n",
    "]))\n",
    "model(images)[0]"
   ]
  },
  {
   "cell_type": "markdown",
   "metadata": {},
   "source": [
    "Train classifier model with normal convnet"
   ]
  },
  {
   "cell_type": "code",
   "execution_count": 31,
   "metadata": {},
   "outputs": [
    {
     "ename": "RuntimeError",
     "evalue": "Given input size: (10x7x7). Calculated output size: (10x-5x-5). Output size is too small at /opt/conda/conda-bld/pytorch_1535488076166/work/aten/src/THNN/generic/SpatialAveragePooling.c:64",
     "output_type": "error",
     "traceback": [
      "Traceback \u001b[0;36m(most recent call last)\u001b[0m:\n",
      "  File \u001b[1;32m\"<ipython-input-31-dd793956fec1>\"\u001b[0m, line \u001b[1;32m3\u001b[0m, in \u001b[1;35m<module>\u001b[0m\n    model(images)\n",
      "  File \u001b[1;32m\"/home/shubham/anaconda2/lib/python2.7/site-packages/torch/nn/modules/module.py\"\u001b[0m, line \u001b[1;32m477\u001b[0m, in \u001b[1;35m__call__\u001b[0m\n    result = self.forward(*input, **kwargs)\n",
      "  File \u001b[1;32m\"/home/shubham/anaconda2/lib/python2.7/site-packages/torchvision-0.2.1-py2.7.egg/torchvision/models/squeezenet.py\"\u001b[0m, line \u001b[1;32m100\u001b[0m, in \u001b[1;35mforward\u001b[0m\n    x = self.classifier(x)\n",
      "  File \u001b[1;32m\"/home/shubham/anaconda2/lib/python2.7/site-packages/torch/nn/modules/module.py\"\u001b[0m, line \u001b[1;32m477\u001b[0m, in \u001b[1;35m__call__\u001b[0m\n    result = self.forward(*input, **kwargs)\n",
      "  File \u001b[1;32m\"/home/shubham/anaconda2/lib/python2.7/site-packages/torch/nn/modules/container.py\"\u001b[0m, line \u001b[1;32m91\u001b[0m, in \u001b[1;35mforward\u001b[0m\n    input = module(input)\n",
      "  File \u001b[1;32m\"/home/shubham/anaconda2/lib/python2.7/site-packages/torch/nn/modules/module.py\"\u001b[0m, line \u001b[1;32m477\u001b[0m, in \u001b[1;35m__call__\u001b[0m\n    result = self.forward(*input, **kwargs)\n",
      "\u001b[0;36m  File \u001b[0;32m\"/home/shubham/anaconda2/lib/python2.7/site-packages/torch/nn/modules/pooling.py\"\u001b[0;36m, line \u001b[0;32m547\u001b[0;36m, in \u001b[0;35mforward\u001b[0;36m\u001b[0m\n\u001b[0;31m    self.padding, self.ceil_mode, self.count_include_pad)\u001b[0m\n",
      "\u001b[0;31mRuntimeError\u001b[0m\u001b[0;31m:\u001b[0m Given input size: (10x7x7). Calculated output size: (10x-5x-5). Output size is too small at /opt/conda/conda-bld/pytorch_1535488076166/work/aten/src/THNN/generic/SpatialAveragePooling.c:64\n"
     ]
    }
   ],
   "source": [
    "model = models.squeezenet1_0(pretrained=False)\n",
    "model.classifier[1] = nn.Conv2d(512,10,kernel_size=(1,1), stride=(1,1))\n",
    "model(images)"
   ]
  },
  {
   "cell_type": "code",
   "execution_count": null,
   "metadata": {},
   "outputs": [],
   "source": [
    "\n",
    "loss = nn.NLLLoss()\n",
    "opti = optim.Adam(model.parameters())\n",
    "\n",
    "liveloss = PlotLosses()\n",
    "for data,target in svhn_trainloader:\n",
    "    opti.zero_grad()\n",
    "    output, _ = model(data)\n",
    "    \n",
    "    loss_ = loss(output.view(1,-1), target)\n",
    "    liveloss.update({'log_loss':loss_})\n",
    "    liveloss.draw()\n",
    "    loss_.backward()\n",
    "    opti.step()"
   ]
  },
  {
   "cell_type": "code",
   "execution_count": null,
   "metadata": {},
   "outputs": [],
   "source": []
  },
  {
   "cell_type": "code",
   "execution_count": null,
   "metadata": {},
   "outputs": [],
   "source": []
  },
  {
   "cell_type": "markdown",
   "metadata": {},
   "source": [
    "# Attention decoder model"
   ]
  },
  {
   "cell_type": "code",
   "execution_count": 10,
   "metadata": {},
   "outputs": [],
   "source": [
    "class AttnDecoder(nn.Module):\n",
    "    def __init__(self, hidden_size, embedding_size = 32, vocab_size = 12, dropout_p = 0.2, feature_size=(512,7*7)):\n",
    "        super(AttnDecoder, self).__init__()\n",
    "        self.embedding_size = embedding_size\n",
    "        self.vocab_size = vocab_size\n",
    "        self.dropout_p = dropout_p\n",
    "        self.feature_size = feature_size\n",
    "        self.hidden_size = hidden_size\n",
    "        \n",
    "        self.embedding = nn.Embedding(self.vocab_size, self.embedding_size)\n",
    "        self.attn = nn.Linear(self.embedding_size + self.hidden_size, self.feature_size[0])\n",
    "        self.attn_combine = nn.Linear(self.embedding_size + self.feature_size[1], self.embedding_size)\n",
    "        self.dropout = nn.Dropout(self.dropout_p)\n",
    "        self.gru = nn.GRU(self.embedding_size, self.hidden_size)\n",
    "        self.out = nn.Linear(self.hidden_size, self.vocab_size)\n",
    "    \n",
    "    def forward(self, input, hidden, encoder_output):\n",
    "        embedded = self.embedding(input).view(1,-1)\n",
    "        embedded = self.dropout(embedded)\n",
    "        \n",
    "        hidden = hidden.view(1,1,-1)\n",
    "        attn_weights = F.log_softmax(self.attn(torch.cat((embedded,hidden[0]),1)),dim=1)\n",
    "        attn_applied = torch.bmm(attn_weights.unsqueeze(0), encoder_output)\n",
    "        \n",
    "        output = torch.cat((embedded, attn_applied[0]),1)\n",
    "        output = self.attn_combine(output).unsqueeze(0)\n",
    "        \n",
    "        output = F.relu(output)\n",
    "        output , hidden = self.gru(output, hidden)\n",
    "        \n",
    "        output = F.log_softmax(self.out(output[0]), dim=1)\n",
    "        return output, hidden, attn_weights"
   ]
  },
  {
   "cell_type": "code",
   "execution_count": 11,
   "metadata": {},
   "outputs": [
    {
     "data": {
      "text/plain": [
       "torch.Size([1, 512, 7, 7])"
      ]
     },
     "execution_count": 11,
     "metadata": {},
     "output_type": "execute_result"
    }
   ],
   "source": [
    "hidden, encoder_outputs = model(images)\n",
    "encoder_outputs.shape"
   ]
  },
  {
   "cell_type": "code",
   "execution_count": 24,
   "metadata": {},
   "outputs": [
    {
     "data": {
      "text/plain": [
       "torch.Size([1, 12])"
      ]
     },
     "execution_count": 24,
     "metadata": {},
     "output_type": "execute_result"
    }
   ],
   "source": [
    "attndecoder = AttnDecoder(32)\n",
    "attndecoder(torch.LongTensor([10]),hidden, encoder_outputs.view(1,512,-1))[0].shape"
   ]
  },
  {
   "cell_type": "code",
   "execution_count": 13,
   "metadata": {},
   "outputs": [],
   "source": [
    "SOS = torch.LongTensor([10]) #Start of Sentence\n",
    "EOS = torch.LongTensor([11]) #End of Sentence"
   ]
  },
  {
   "cell_type": "code",
   "execution_count": 14,
   "metadata": {},
   "outputs": [],
   "source": [
    "def train(image, caption, encoder, decoder, encoder_optim, decoder_optim,loss_fn):\n",
    "    \"\"\"\n",
    "    image -> transformed input image\n",
    "    caption -> tuple of 3 numbers [SOS , caption, EOS]\n",
    "    \"\"\"\n",
    "    \n",
    "    loss = 0\n",
    "    encoder_optim.zero_grad()\n",
    "    decoder_optim.zero_grad()\n",
    "    \n",
    "    hidden, encoder_output = encoder(image)\n",
    "    encoder_output = encoder_output.view(1,512,-1)\n",
    "    \n",
    "    outputs = []\n",
    "    \n",
    "    for i in range(len(caption)-1):\n",
    "        output, hidden, attn_weights = decoder(caption[i], hidden, encoder_output)\n",
    "        outputs.append(torch.argmax(output,dim=1))\n",
    "        \n",
    "        loss += loss_fn(output, caption[i+1])\n",
    "    predicted_output = outputs[0]\n",
    "    \n",
    "    loss.backward()\n",
    "    encoder_optim.step()\n",
    "    decoder_optim.step()\n",
    "    \n",
    "    return loss , predicted_output"
   ]
  },
  {
   "cell_type": "code",
   "execution_count": 15,
   "metadata": {},
   "outputs": [],
   "source": [
    "hidden_size = 32\n",
    "encoder = nn.Sequential(OrderedDict([\n",
    "    ('features',sqnet),\n",
    "    ('initHidden',Hidden(hidden_size))\n",
    "]))\n",
    "decoder = AttnDecoder(hidden_size)"
   ]
  },
  {
   "cell_type": "code",
   "execution_count": 16,
   "metadata": {},
   "outputs": [
    {
     "data": {
      "text/plain": [
       "(tensor(4.5839, grad_fn=<ThAddBackward>), tensor([2]))"
      ]
     },
     "execution_count": 16,
     "metadata": {},
     "output_type": "execute_result"
    }
   ],
   "source": [
    "image,caption = next(iter(svhn_trainloader))\n",
    "caption = [SOS, caption, EOS]\n",
    "\n",
    "encoder_optim = optim.Adam(encoder.parameters())\n",
    "decoder_optim = optim.Adam(decoder.parameters())\n",
    "loss_fn = nn.NLLLoss()\n",
    "\n",
    "train(image, caption, encoder, decoder, encoder_optim, decoder_optim,loss_fn)"
   ]
  },
  {
   "cell_type": "code",
   "execution_count": 17,
   "metadata": {},
   "outputs": [
    {
     "data": {
      "image/png": "[encoded data removed]",
      "text/plain": [
       "<Figure size 1200x800 with 2 Axes>"
      ]
     },
     "metadata": {},
     "output_type": "display_data"
    },
    {
     "ename": "KeyboardInterrupt",
     "evalue": "",
     "output_type": "error",
     "traceback": [
      "Traceback \u001b[0;36m(most recent call last)\u001b[0m:\n",
      "  File \u001b[1;32m\"<ipython-input-17-6428367ef6ec>\"\u001b[0m, line \u001b[1;32m15\u001b[0m, in \u001b[1;35m<module>\u001b[0m\n    loss, output = train(image, caption, encoder, decoder, encoder_optim, decoder_optim,loss_fn)\n",
      "  File \u001b[1;32m\"<ipython-input-14-1bf34013ca63>\"\u001b[0m, line \u001b[1;32m11\u001b[0m, in \u001b[1;35mtrain\u001b[0m\n    hidden, encoder_output = encoder(image)\n",
      "  File \u001b[1;32m\"/home/shubham/anaconda2/lib/python2.7/site-packages/torch/nn/modules/module.py\"\u001b[0m, line \u001b[1;32m477\u001b[0m, in \u001b[1;35m__call__\u001b[0m\n    result = self.forward(*input, **kwargs)\n",
      "  File \u001b[1;32m\"/home/shubham/anaconda2/lib/python2.7/site-packages/torch/nn/modules/container.py\"\u001b[0m, line \u001b[1;32m91\u001b[0m, in \u001b[1;35mforward\u001b[0m\n    input = module(input)\n",
      "  File \u001b[1;32m\"/home/shubham/anaconda2/lib/python2.7/site-packages/torch/nn/modules/module.py\"\u001b[0m, line \u001b[1;32m477\u001b[0m, in \u001b[1;35m__call__\u001b[0m\n    result = self.forward(*input, **kwargs)\n",
      "  File \u001b[1;32m\"/home/shubham/anaconda2/lib/python2.7/site-packages/torch/nn/modules/container.py\"\u001b[0m, line \u001b[1;32m91\u001b[0m, in \u001b[1;35mforward\u001b[0m\n    input = module(input)\n",
      "  File \u001b[1;32m\"/home/shubham/anaconda2/lib/python2.7/site-packages/torch/nn/modules/module.py\"\u001b[0m, line \u001b[1;32m477\u001b[0m, in \u001b[1;35m__call__\u001b[0m\n    result = self.forward(*input, **kwargs)\n",
      "  File \u001b[1;32m\"/home/shubham/anaconda2/lib/python2.7/site-packages/torchvision-0.2.1-py2.7.egg/torchvision/models/squeezenet.py\"\u001b[0m, line \u001b[1;32m36\u001b[0m, in \u001b[1;35mforward\u001b[0m\n    self.expand3x3_activation(self.expand3x3(x))\n",
      "  File \u001b[1;32m\"/home/shubham/anaconda2/lib/python2.7/site-packages/torch/nn/modules/module.py\"\u001b[0m, line \u001b[1;32m477\u001b[0m, in \u001b[1;35m__call__\u001b[0m\n    result = self.forward(*input, **kwargs)\n",
      "\u001b[0;36m  File \u001b[0;32m\"/home/shubham/anaconda2/lib/python2.7/site-packages/torch/nn/modules/conv.py\"\u001b[0;36m, line \u001b[0;32m301\u001b[0;36m, in \u001b[0;35mforward\u001b[0;36m\u001b[0m\n\u001b[0;31m    self.padding, self.dilation, self.groups)\u001b[0m\n",
      "\u001b[0;31mKeyboardInterrupt\u001b[0m\n"
     ]
    }
   ],
   "source": [
    "liveloss = PlotLosses()\n",
    "batch = 50\n",
    "encoder.train()\n",
    "decoder.train()\n",
    "for epoch in range(1,10000):\n",
    "    \n",
    "    loss_t = 0\n",
    "    correct = 0\n",
    "    image, caption = next(iter(svhn_trainloader))\n",
    "    caption = [SOS, caption, EOS]\n",
    "    encoder_optim = optim.Adam(encoder.parameters())\n",
    "    decoder_optim = optim.Adam(decoder.parameters())\n",
    "    loss_fn = nn.NLLLoss()\n",
    "    \n",
    "    loss, output = train(image, caption, encoder, decoder, encoder_optim, decoder_optim,loss_fn)\n",
    "    \n",
    "    correct+= (output == caption[1])[0].numpy()\n",
    "    loss_t += loss\n",
    "    if epoch % batch == 0:\n",
    "        loss_avg = loss_t / float(batch)\n",
    "        loss_t = 0\n",
    "        correct_avg = correct / float(batch)\n",
    "        liveloss.update({'log_loss':loss_avg, 'accuracy':correct_avg})\n",
    "        liveloss.draw()\n",
    "        loss_avg = 0\n",
    "        correct=0"
   ]
  },
  {
   "cell_type": "code",
   "execution_count": null,
   "metadata": {},
   "outputs": [],
   "source": []
  }
 ],
 "metadata": {
  "kernelspec": {
   "display_name": "Python 2 (Spyder)",
   "language": "python2",
   "name": "python2"
  },
  "language_info": {
   "codemirror_mode": {
    "name": "ipython",
    "version": 2
   },
   "file_extension": ".py",
   "mimetype": "text/x-python",
   "name": "python",
   "nbconvert_exporter": "python",
   "pygments_lexer": "ipython2",
   "version": "2.7.15"
  }
 },
 "nbformat": 4,
 "nbformat_minor": 2
}
